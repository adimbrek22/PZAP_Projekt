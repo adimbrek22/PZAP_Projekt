{
 "cells": [
  {
   "cell_type": "markdown",
   "id": "5f35a798-f495-4961-a071-39525f4e9331",
   "metadata": {},
   "source": [
    "# Uvod"
   ]
  },
  {
   "cell_type": "raw",
   "id": "81b5f609-5762-4bb2-a467-d339a945f27c",
   "metadata": {},
   "source": [
    "Motivacija za odabir ove teme proizašla je iz potrebe za razumijevanjem utjecaja sve veće prisutnosti električnih vozila na sigurnost u prometu u SAD-u. Kombiniranjem podataka o prometnim nesrećama i električnim vozilima u SAD-u, cilj je pružiti uvid u moguće korelacije između povećanja broja električnih automobila i broja nesreći na cestama."
   ]
  },
  {
   "cell_type": "markdown",
   "id": "915f9ac4-caa1-458c-b776-673967f7493c",
   "metadata": {},
   "source": [
    "# Opis implementacije"
   ]
  },
  {
   "cell_type": "markdown",
   "id": "2054a8c7-ed92-445a-98f3-2689ad32a761",
   "metadata": {},
   "source": [
    "### Učitavanje podataka"
   ]
  },
  {
   "cell_type": "code",
   "execution_count": 4,
   "id": "f82da1cd-fb2c-48d0-96fa-6c8d7088bb0f",
   "metadata": {},
   "outputs": [],
   "source": [
    "import pandas as pd\n",
    "\n",
    "# Učitavanje CSV datoteke\n",
    "csv_path = \"US_Accidents_March23.csv\"\n",
    "df_csv = pd.read_csv(csv_path)\n",
    "\n",
    "# Učitavanje XLSX datoteke\n",
    "xlsx_path = \"Electric_Vehicle_Population_Data.xlsx\"\n",
    "df_xlsx = pd.read_excel(xlsx_path)\n",
    "\n",
    "df_csv = df_csv.sample(n=5000, random_state=42)\n",
    "df_xlsx = df_xlsx.sample(n=5000, random_state=42)"
   ]
  },
  {
   "cell_type": "raw",
   "id": "96b01c4e-bf62-4ce3-823a-ca7da3077d7d",
   "metadata": {},
   "source": [
    "Podaci su preuzeti s Kaggle platforme.\n",
    "\n",
    "Moosavi, S. (n.d.). US Accidents (2016 - 2023) [Dataset]. Kaggle. Preuzeto 25. siječnja, 2025, sa https://www.kaggle.com/datasets/sobhanmoosavi/us-accidents\n",
    "Kiptoo, I. (n.d.). US Electric Vehicle Population Data [Dataset]. Kaggle. Preuzeto 25 siječnja, 2025, sa https://www.kaggle.com/datasets/ishmaelkiptoo/us-electric-vehicle-population-data\n",
    "\n",
    "Odabire se slučajni uzorak od 5.000 redaka iz oba skupa podataka kako bi se smanjila veličina i optimizirala obrada.\n",
    "Parametar random_state=42 osigurava konzistentnost odabira podataka."
   ]
  },
  {
   "cell_type": "markdown",
   "id": "4c9d96b7-c971-445f-81b7-bb8f2330e309",
   "metadata": {},
   "source": [
    "### Čiščenje podataka"
   ]
  },
  {
   "cell_type": "code",
   "execution_count": 6,
   "id": "024b6105-f559-475d-b027-14f3a534388a",
   "metadata": {},
   "outputs": [
    {
     "name": "stdout",
     "output_type": "stream",
     "text": [
      "\n",
      "CSV nakon čišćenja:\n",
      "                 Start_Time            End_Time             City      County  \\\n",
      "7133276 2020-04-17 09:29:30 2020-04-17 10:29:30  West Palm Beach  Palm Beach   \n",
      "5363845 2022-04-21 10:01:00 2022-04-21 11:44:08        Roseville      Placer   \n",
      "155993  2016-08-12 16:45:00 2016-08-12 17:15:00       Alpharetta      Fulton   \n",
      "1861414 2019-09-20 15:22:16 2019-09-20 15:56:00           Tacoma      Pierce   \n",
      "2021359 2019-06-03 16:55:43 2019-06-03 18:12:09       Scottsdale    Maricopa   \n",
      "\n",
      "        State  \n",
      "7133276    FL  \n",
      "5363845    CA  \n",
      "155993     GA  \n",
      "1861414    WA  \n",
      "2021359    AZ  \n",
      "\n",
      "XLSX nakon čišćenja:\n",
      "       State        Make     Model\n",
      "61271     WA         BMW      530E\n",
      "40997     WA    CHRYSLER  PACIFICA\n",
      "124845    WA  VOLKSWAGEN    E-GOLF\n",
      "124665    WA      NISSAN      LEAF\n",
      "83879     WA     PORSCHE  PANAMERA\n"
     ]
    }
   ],
   "source": [
    "# Uklanjanje dupliciranih redova\n",
    "df_csv = df_csv.drop_duplicates()\n",
    "df_xlsx = df_xlsx.drop_duplicates()\n",
    "\n",
    "#Formatiranje vremena\n",
    "df_csv[\"Start_Time\"] = df_csv[\"Start_Time\"].str.split('.').str[0]\n",
    "df_csv[\"End_Time\"] = df_csv[\"End_Time\"].str.split('.').str[0]\n",
    "\n",
    "df_csv[\"Start_Time\"] = pd.to_datetime(df_csv[\"Start_Time\"])\n",
    "df_csv[\"End_Time\"] = pd.to_datetime(df_csv[\"End_Time\"])\n",
    "\n",
    "# Uklanjanje nepotrebnih stupaca\n",
    "df_csv = df_csv.drop(columns=[\"ID\", \"Source\", \"Severity\", \"Start_Lat\", \"Start_Lng\",\n",
    "                              \"End_Lat\", \"End_Lng\", \"Distance(mi)\", \"Description\", \"Street\",\n",
    "                              \"Zipcode\", \"Country\", \"Timezone\", \"Airport_Code\",\n",
    "                              \"Weather_Timestamp\", \"Temperature(F)\", \"Wind_Chill(F)\", \"Humidity(%)\",\n",
    "                              \"Pressure(in)\", \"Visibility(mi)\", \"Wind_Direction\", \"Wind_Speed(mph)\",\n",
    "                              \"Precipitation(in)\", \"Weather_Condition\", \"Amenity\", \"Bump\",\n",
    "                              \"Crossing\", \"Give_Way\", \"Junction\", \"No_Exit\", \"Railway\",\n",
    "                              \"Roundabout\", \"Station\", \"Stop\", \"Traffic_Calming\", \"Traffic_Signal\",\n",
    "                              \"Turning_Loop\", \"Sunrise_Sunset\", \"Civil_Twilight\",\n",
    "                              \"Nautical_Twilight\", \"Astronomical_Twilight\"])\n",
    "df_xlsx = df_xlsx.drop(columns=[\"VIN (1-10)\", \"City\", \"Postal Code\", \"Model Year\",\n",
    "                                \"Electric Vehicle Type\", \"Clean Alternative Fuel Vehicle (CAFV) Eligibility\",\n",
    "                                \"Electric Range\", \"Base MSRP\", \"Legislative District\", \"DOL Vehicle ID\",\n",
    "                                \"Electric Utility\", \"Vehicle Location\", \"2020 Census Tract\",\"County\"])\n",
    "\n",
    "# Obrada NaN vrijednosti (uklanjanje)\n",
    "df_csv = df_csv.dropna()  \n",
    "df_xlsx = df_xlsx.dropna()  \n",
    "\n",
    "# Prikaz nakon čišćenja\n",
    "print(\"\\nCSV nakon čišćenja:\")\n",
    "print(df_csv.head())\n",
    "\n",
    "print(\"\\nXLSX nakon čišćenja:\")\n",
    "print(df_xlsx.head())"
   ]
  },
  {
   "cell_type": "raw",
   "id": "62f85712-8a12-4e13-aa24-90583d0b9b72",
   "metadata": {},
   "source": [
    "Uklanjaju se duplikati iz oba skupa podataka kako bi se izbjeglo dvostruko brojanje ili netočni rezultati analize.\n",
    "Prerađuju se stupci Start_Time i End_Time kako bi se uklonile informacije o milisekundama.\n",
    "Pretvaraju se vrijednosti u standardni format datuma i vremena koristeći pandas.to_datetime().\n",
    "Uklanjaju se stupci koji nisu potrebni za analizu, čime se pojednostavljuje rad s podacima i optimizira memorijska potrošnja.\n",
    "Redovi s nedostajućim vrijednostima u bilo kojem od skupova podataka uklanjaju se kako bi se izbjegle pogreške u obradi i analizi."
   ]
  },
  {
   "cell_type": "markdown",
   "id": "5d44249b-b925-4c71-b601-d1ddf3f2b182",
   "metadata": {},
   "source": [
    "### Spajanje datasetova"
   ]
  },
  {
   "cell_type": "code",
   "execution_count": 8,
   "id": "b934f396-a7be-41b7-9fc2-41e835485342",
   "metadata": {
    "scrolled": true
   },
   "outputs": [
    {
     "name": "stdout",
     "output_type": "stream",
     "text": [
      "\n",
      "Integrirani podaci:\n",
      "           Start_Time            End_Time             City      County State  \\\n",
      "0 2020-04-17 09:29:30 2020-04-17 10:29:30  West Palm Beach  Palm Beach    FL   \n",
      "1 2022-04-21 10:01:00 2022-04-21 11:44:08        Roseville      Placer    CA   \n",
      "2 2022-04-21 10:01:00 2022-04-21 11:44:08        Roseville      Placer    CA   \n",
      "3 2022-04-21 10:01:00 2022-04-21 11:44:08        Roseville      Placer    CA   \n",
      "4 2022-04-21 10:01:00 2022-04-21 11:44:08        Roseville      Placer    CA   \n",
      "\n",
      "    Make    Model  \n",
      "0  TESLA  MODEL 3  \n",
      "1  TESLA  MODEL 3  \n",
      "2  TESLA  MODEL Y  \n",
      "3  TESLA  MODEL 3  \n",
      "4  TESLA  MODEL 3  \n"
     ]
    }
   ],
   "source": [
    "merged_data = pd.merge(df_csv, df_xlsx, on=\"State\", how=\"inner\")\n",
    "\n",
    "# Prikaz podataka\n",
    "print(\"\\nIntegrirani podaci:\")\n",
    "print(merged_data.head())\n"
   ]
  },
  {
   "cell_type": "raw",
   "id": "d85fac0c-cab4-4a25-bbbe-cd369eec8b1e",
   "metadata": {},
   "source": [
    "Skupovi podataka se spajaju na temelju zajedničkog atributa State."
   ]
  },
  {
   "cell_type": "markdown",
   "id": "eb78fa7b-8015-4d06-852a-a62e59a2b8d5",
   "metadata": {},
   "source": [
    "### Uklanjanje podataka"
   ]
  },
  {
   "cell_type": "code",
   "execution_count": 10,
   "id": "60839b00-3708-4aac-92e1-3aaf8b00576c",
   "metadata": {},
   "outputs": [
    {
     "name": "stdout",
     "output_type": "stream",
     "text": [
      "Broj redova prije uklanjanja duplikata: 333065\n",
      "Broj redova nakon uklanjanja duplikata: 10395\n"
     ]
    }
   ],
   "source": [
    "print(f\"Broj redova prije uklanjanja duplikata: {len(merged_data)}\")\n",
    "\n",
    "merged_data = merged_data.drop_duplicates()\n",
    "\n",
    "print(f\"Broj redova nakon uklanjanja duplikata: {len(merged_data)}\")"
   ]
  },
  {
   "cell_type": "raw",
   "id": "b955f6f8-a44b-4839-9411-558c30ca7186",
   "metadata": {},
   "source": [
    "Uklanjaju se svi duplikati u integriranom skupu podataka."
   ]
  },
  {
   "cell_type": "markdown",
   "id": "de5cbba9-b9a5-4a68-9f55-e4d05bb4af9d",
   "metadata": {},
   "source": [
    "### Pohrana podataka u bazu"
   ]
  },
  {
   "cell_type": "code",
   "execution_count": 12,
   "id": "911f2012-2d17-48ec-995e-6e65e18fdde3",
   "metadata": {},
   "outputs": [
    {
     "name": "stdout",
     "output_type": "stream",
     "text": [
      "\n",
      "Prvih 5 redaka iz baze:\n",
      "            Start_Time             End_Time             City      County  \\\n",
      "0  2020-04-17 09:29:30  2020-04-17 10:29:30  West Palm Beach  Palm Beach   \n",
      "1  2022-04-21 10:01:00  2022-04-21 11:44:08        Roseville      Placer   \n",
      "2  2022-04-21 10:01:00  2022-04-21 11:44:08        Roseville      Placer   \n",
      "3  2019-09-20 15:22:16  2019-09-20 15:56:00           Tacoma      Pierce   \n",
      "4  2019-09-20 15:22:16  2019-09-20 15:56:00           Tacoma      Pierce   \n",
      "\n",
      "  State      Make     Model  \n",
      "0    FL     TESLA   MODEL 3  \n",
      "1    CA     TESLA   MODEL 3  \n",
      "2    CA     TESLA   MODEL Y  \n",
      "3    WA       BMW      530E  \n",
      "4    WA  CHRYSLER  PACIFICA  \n"
     ]
    }
   ],
   "source": [
    "import sqlite3\n",
    "\n",
    "# Spajanje na SQLite\n",
    "conn = sqlite3.connect(\"project_data.db\")\n",
    "\n",
    "merged_data.to_sql(\"integrated_data\", conn, if_exists=\"replace\", index=False)\n",
    "\n",
    "print(\"\\nPrvih 5 redaka iz baze:\")\n",
    "print(pd.read_sql_query(\"SELECT * FROM integrated_data LIMIT 5;\", conn))\n",
    "\n",
    "conn.close()"
   ]
  },
  {
   "cell_type": "raw",
   "id": "95922bb3-e819-4d38-bc28-edc4a4d4e8c9",
   "metadata": {},
   "source": [
    "Integrirani skup podataka pohranjuje se u tablicu integrated_data"
   ]
  },
  {
   "cell_type": "markdown",
   "id": "0af83ac5-8e58-4f12-91ac-153e01d5cf42",
   "metadata": {},
   "source": [
    "### REST API"
   ]
  },
  {
   "cell_type": "code",
   "execution_count": 14,
   "id": "5125f323-24e7-44a3-87ef-70bf3c66128c",
   "metadata": {},
   "outputs": [
    {
     "name": "stderr",
     "output_type": "stream",
     "text": [
      "WARNING: This is a development server. Do not use it in a production deployment. Use a production WSGI server instead.\n",
      " * Running on http://localhost:5000\n",
      "Press CTRL+C to quit\n"
     ]
    }
   ],
   "source": [
    "from flask import Flask, jsonify\n",
    "import sqlite3\n",
    "import pandas as pd\n",
    "\n",
    "app = Flask(__name__)\n",
    "\n",
    "# Početna ruta\n",
    "@app.route('/', methods=['GET'])\n",
    "def home():\n",
    "    return jsonify({\n",
    "        \"message\": \"Welcome to the API. Use the following endpoints:\",\n",
    "        \"all_data\": \"/api/data/all\",\n",
    "        \"sample_data\": \"/api/data/sample\"\n",
    "    })\n",
    "\n",
    "# Dohvaćanje uzorka podataka (100 redova)\n",
    "@app.route('/api/data/sample', methods=['GET'])\n",
    "def get_sample_data():\n",
    "    conn = sqlite3.connect(\"project_data.db\")\n",
    "    query = \"SELECT * FROM integrated_data LIMIT 100\"\n",
    "    data = pd.read_sql_query(query, conn)\n",
    "    conn.close()\n",
    "    return jsonify(data.to_dict(orient=\"records\"))\n",
    "\n",
    "# Dohvaćanje podataka po \"STATE\"\n",
    "@app.route('/api/data/state/<state>', methods=['GET'])\n",
    "def get_data_by_state(state):\n",
    "    conn = sqlite3.connect(\"project_data.db\")\n",
    "    query = f\"SELECT * FROM integrated_data WHERE State = '{state}'\"\n",
    "    data = pd.read_sql_query(query, conn)\n",
    "    conn.close()\n",
    "    return jsonify(data.to_dict(orient=\"records\"))\n",
    "\n",
    "\n",
    "from werkzeug.serving import run_simple\n",
    "\n",
    "if __name__ == '__main__':\n",
    "    run_simple('localhost', 5000, app)"
   ]
  },
  {
   "cell_type": "raw",
   "id": "58188073-ed7c-4016-84c9-a325ef6d276b",
   "metadata": {},
   "source": [
    "Pokreće se Flask aplikacija za dohvaćanje podataka iz SQLite baze."
   ]
  },
  {
   "cell_type": "markdown",
   "id": "e52daaea-3eb6-48c4-ae26-0b7258a665ef",
   "metadata": {},
   "source": [
    "### Vizualizacija"
   ]
  },
  {
   "cell_type": "code",
   "execution_count": 16,
   "id": "c2baf80e-7f68-4063-9626-13eb28cd2d45",
   "metadata": {},
   "outputs": [
    {
     "name": "stdout",
     "output_type": "stream",
     "text": [
      "  State  Broj_nesreća  Broj_auta  Nesreće_po_autu\n",
      "0    CA          2240          7       320.000000\n",
      "1    CO           148          2        74.000000\n",
      "2    CT            56          1        56.000000\n",
      "3    FL           562          1       562.000000\n",
      "4    ID             4          1         4.000000\n",
      "5    MD           267          3        89.000000\n",
      "6    NJ            89          1        89.000000\n",
      "7    VA           204          1       204.000000\n",
      "8    WA          6825       4983         1.369657\n"
     ]
    },
    {
     "data": {
      "image/png": "[encoded data removed]",
      "text/plain": [
       "<Figure size 1200x600 with 1 Axes>"
      ]
     },
     "metadata": {},
     "output_type": "display_data"
    }
   ],
   "source": [
    "import matplotlib.pyplot as plt\n",
    "\n",
    "nesrece_po_state = merged_data.groupby('State').size().reset_index(name='Broj_nesreća')\n",
    "\n",
    "auta_po_state = df_xlsx.groupby('State').size().reset_index(name='Broj_auta')\n",
    "\n",
    "analiza = pd.merge(nesrece_po_state, auta_po_state, on='State', how='inner')\n",
    "\n",
    "analiza['Nesreće_po_autu'] = analiza['Broj_nesreća'] / analiza['Broj_auta']\n",
    "\n",
    "print(analiza)\n",
    "\n",
    "state_accidents = merged_data.groupby('State').size().reset_index(name='Broj_nesreća')\n",
    "\n",
    "plt.figure(figsize=(12, 6))\n",
    "plt.bar(state_accidents['State'], state_accidents['Broj_nesreća'], color='blue', alpha=0.7)\n",
    "plt.xlabel('State')\n",
    "plt.ylabel('Broj nesreća')\n",
    "plt.title('Broj nesreća po State')\n",
    "plt.xticks(rotation=90)\n",
    "plt.show()\n"
   ]
  },
  {
   "cell_type": "raw",
   "id": "bd4e27f0-a8bc-4d0f-bd82-219cc37d77e8",
   "metadata": {},
   "source": [
    "Prikaz broj nesreća i broj električnih automobila po državama."
   ]
  },
  {
   "cell_type": "code",
   "execution_count": 17,
   "id": "d5ce5a15-400e-4a64-ad79-84685d9d9867",
   "metadata": {},
   "outputs": [
    {
     "data": {
      "image/png": "[encoded data removed]",
      "text/plain": [
       "<Figure size 1200x600 with 1 Axes>"
      ]
     },
     "metadata": {},
     "output_type": "display_data"
    }
   ],
   "source": [
    "analiza = analiza.sort_values('Nesreće_po_autu', ascending=False)\n",
    "\n",
    "plt.figure(figsize=(12, 6))\n",
    "plt.bar(analiza['State'], analiza['Nesreće_po_autu'], color='orange')\n",
    "plt.xlabel('State')\n",
    "plt.ylabel('Nesreće po električnom vozilu')\n",
    "plt.title('Nesreće po električnom vozilu po State')\n",
    "plt.xticks(rotation=90)\n",
    "plt.show()\n"
   ]
  },
  {
   "cell_type": "raw",
   "id": "8b712942-78ff-4315-b34f-9b294f9fcd33",
   "metadata": {},
   "source": [
    "Vizualizacija broja nesreća po električnom vozilu za svaku državu."
   ]
  },
  {
   "cell_type": "markdown",
   "id": "640b6a5d-9b3e-43f6-89be-2d7b0c93dfd7",
   "metadata": {},
   "source": [
    "# Prikaz aplikacije"
   ]
  },
  {
   "cell_type": "markdown",
   "id": "f43420ba-c462-4e2c-afdf-749fa8c12ea8",
   "metadata": {},
   "source": [
    "![REST.png](REST.png)"
   ]
  },
  {
   "cell_type": "raw",
   "id": "ee36e3af-bd25-40c6-a2d1-33a21a3666bf",
   "metadata": {},
   "source": [
    "Prikaz na sample."
   ]
  },
  {
   "cell_type": "markdown",
   "id": "33b2af97-6917-4b61-82e1-b2dcf8926f4d",
   "metadata": {},
   "source": [
    "![REST1.png](REST1.png)"
   ]
  },
  {
   "cell_type": "raw",
   "id": "456f46fe-be20-4f97-8a67-37dd35324148",
   "metadata": {},
   "source": [
    "Prikaz za STATE \"ID\" tj. Idaho"
   ]
  },
  {
   "cell_type": "markdown",
   "id": "b3ff9e46-cd96-4b14-9c58-872fe105a1e7",
   "metadata": {},
   "source": [
    "![REST2.png](REST2.png)"
   ]
  },
  {
   "cell_type": "raw",
   "id": "10938c59-4d76-4338-8349-0f687dcc091e",
   "metadata": {},
   "source": [
    "Prikaz za STATE \"FL\" tj. Florida"
   ]
  },
  {
   "cell_type": "markdown",
   "id": "d3d5dc57-596c-4519-b040-7f9ea6f8f80a",
   "metadata": {},
   "source": [
    "# Kritički osvrt (izvedivost i primjena)"
   ]
  },
  {
   "cell_type": "raw",
   "id": "23382475-7057-4af8-b079-cd02957ba5d1",
   "metadata": {},
   "source": [
    "Sustav temeljen na analizi podataka o prometnim nesrećama i električnim vozilima pokazao se praktičnim za implementaciju i potencijalno korisnim u stvarnim primjenama. Korištenjem lako dostupnih tehnologija poput SQLite baze podataka, Flask REST API-ja i Python biblioteka, sustav je relativno jednostavan za izradu, održavanje i proširenje. REST API omogućuje integraciju s drugim sustavima, što povećava njegovu fleksibilnost i potencijal za primjenu u raznim scenarijima."
   ]
  },
  {
   "cell_type": "markdown",
   "id": "33c110cf-93b6-48ad-84c7-80c9c563be19",
   "metadata": {},
   "source": [
    "# Zaključak"
   ]
  },
  {
   "cell_type": "raw",
   "id": "16051a20-5bcc-45f7-9dad-57eda340c184",
   "metadata": {},
   "source": [
    "Grafikon broja nesreća i broja električnih automobila po državama pokazuje jasnu neravnotežu u distribuciji. Primjerice, države poput Washingtona (WA) imaju iznimno visok broj električnih automobila, ali relativno manji broj nesreća, što ukazuje na to da veći broj vozila ne mora nužno značiti proporcionalno više nesreća. Države kao što su Florida (FL) i Kalifornija (CA) pokazuju visoku razinu nesreća po električnom vozilu u usporedbi s drugim državama."
   ]
  },
  {
   "cell_type": "markdown",
   "id": "0b6ca614-77a9-4c2e-8744-125b49e41096",
   "metadata": {},
   "source": [
    "# Literatura"
   ]
  },
  {
   "cell_type": "raw",
   "id": "0d9c1d44-aa22-46f4-b0e4-251298d055a6",
   "metadata": {},
   "source": [
    "1. Flask Documentation. (n.d.). Flask: Web Framework for Python. https://flask.palletsprojects.com/\n",
    "2. Pedregosa, F., Varoquaux, G., Gramfort, A., Michel, V., Thirion, B., Grisel, O., ... & Duchesnay, É. (2011). Scikit-learn: Machine Learning in Python. Journal of Machine Learning Research, 12, 2825-2830.\n",
    "3. McKinney, W. (2010). Data Structures for Statistical Computing in Python. Proceedings of the 9th Python in Science Conference, 51-56.\n",
    "4. Hunter, J. D. (2007). Matplotlib: A 2D Graphics Environment. Computing in Science & Engineering, 9(3), 90-95.\n",
    "5. Kaggle. (2023). US Accidents (2016 - 2023). Preuzeto s: https://www.kaggle.com/datasets/sobhanmoosavi/us-accidents\n",
    "6. Kaggle. (2023). US Electric Vehicle Population Data. Preuzeto s: https://www.kaggle.com/datasets/ishmaelkiptoo/us-electric-vehicle-population-data\n",
    "7. Razgovor s ChatGPT-om https://chatgpt.com/share/67952a81-9dd4-8007-be93-0de08052a985"
   ]
  }
 ],
 "metadata": {
  "kernelspec": {
   "display_name": "Python 3 (ipykernel)",
   "language": "python",
   "name": "python3"
  },
  "language_info": {
   "codemirror_mode": {
    "name": "ipython",
    "version": 3
   },
   "file_extension": ".py",
   "mimetype": "text/x-python",
   "name": "python",
   "nbconvert_exporter": "python",
   "pygments_lexer": "ipython3",
   "version": "3.12.4"
  }
 },
 "nbformat": 4,
 "nbformat_minor": 5
}
